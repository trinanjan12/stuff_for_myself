{
 "cells": [
  {
   "cell_type": "code",
   "execution_count": 193,
   "id": "83a43204",
   "metadata": {},
   "outputs": [
    {
     "name": "stdout",
     "output_type": "stream",
     "text": [
      "10\n",
      "20\n",
      "30\n",
      "40\n",
      "\n",
      "10\n",
      "20\n",
      "30\n",
      "40\n"
     ]
    }
   ],
   "source": [
    "class Node():\n",
    "    def __init__(self,val,next_item=None):\n",
    "        self.val = val\n",
    "        self.next_item = next_item\n",
    "        \n",
    "class LL():\n",
    "    def __init__(self):\n",
    "        self.head = None\n",
    "        \n",
    "    def create_ll(self,values):\n",
    "        if not values:\n",
    "            return\n",
    "        self.head = Node(values[0])\n",
    "        curr = self.head\n",
    "        for i in values[1:]:\n",
    "            curr.next_item = Node(i)\n",
    "            curr = curr.next_item\n",
    "            \n",
    "    def traverse(self, return_needed = False):\n",
    "        curr = self.head\n",
    "        while curr != None:\n",
    "            print(curr.val)\n",
    "            curr = curr.next_item\n",
    "            \n",
    "    def reverse(self):\n",
    "        prev = None\n",
    "        curr = self.head\n",
    "        \n",
    "        while curr != None:\n",
    "            next_node = curr.next_item\n",
    "            curr.next_item = prev\n",
    "            prev = curr\n",
    "            curr = next_node\n",
    "        self.head = prev\n",
    "        \n",
    "    def remove_nth(self,n):\n",
    "        if not self.head or n==0:\n",
    "            return\n",
    "        curr = self.head\n",
    "        prev = None\n",
    "        itr = 1\n",
    "        while curr !=None:\n",
    "            if itr == n:\n",
    "                if prev == None:\n",
    "                    self.head = curr.next_item\n",
    "                    \n",
    "                    return\n",
    "                else:\n",
    "                    prev.next_item = curr.next_item\n",
    "                    return\n",
    "            else:\n",
    "                prev = curr\n",
    "                curr = curr.next_item\n",
    "\n",
    "            itr += 1\n",
    "\n",
    "l1 = LL()\n",
    "l1.create_ll([1,2,3,4,5])\n",
    "l1.traverse()\n",
    "print()\n",
    "# l1.reverse()\n",
    "# l1.traverse()\n",
    "l1.remove_nth(6)\n",
    "l1.traverse()"
   ]
  },
  {
   "cell_type": "code",
   "execution_count": 189,
   "id": "2caf1f53",
   "metadata": {},
   "outputs": [
    {
     "name": "stdout",
     "output_type": "stream",
     "text": [
      "30\n",
      "40\n"
     ]
    }
   ],
   "source": [
    "l1.remove_nth(1)\n",
    "l1.traverse()"
   ]
  },
  {
   "cell_type": "code",
   "execution_count": 151,
   "id": "e635a6a8",
   "metadata": {},
   "outputs": [],
   "source": [
    "class Node():\n",
    "    def __init__(self,val,next = None):\n",
    "        self.val = val\n",
    "        self.next = next\n",
    "        \n",
    "class LL():\n",
    "    def __init(self):\n",
    "        self.head = None\n",
    "        \n",
    "    def create_ll(self,arr):\n",
    "        if not len(arr):\n",
    "            return\n",
    "        self.head = Node(arr[0])\n",
    "        curr = self.head\n",
    "        for i in arr[1:]:\n",
    "            curr.next = Node(i)\n",
    "            curr = curr.next\n",
    "    def traverse_ll(self):\n",
    "        curr = self.head\n",
    "        while curr:\n",
    "            print(curr.val)\n",
    "            curr = curr.next\n",
    "    def get_head(self):\n",
    "        return self.head\n",
    "    \n",
    "    def reverse(self):\n",
    "        prev = None\n",
    "        curr = self.head\n",
    "        \n",
    "        while curr != None:\n",
    "            next_node = curr.next\n",
    "            curr.next = prev\n",
    "            prev = curr\n",
    "            curr = next_node            \n",
    "        self.head = prev"
   ]
  },
  {
   "cell_type": "code",
   "execution_count": 152,
   "id": "f70066eb",
   "metadata": {},
   "outputs": [],
   "source": [
    "l1 = LL()"
   ]
  },
  {
   "cell_type": "code",
   "execution_count": 153,
   "id": "d6bb3e9a",
   "metadata": {},
   "outputs": [],
   "source": [
    "l1.create_ll([1,2,3,4])"
   ]
  },
  {
   "cell_type": "code",
   "execution_count": 154,
   "id": "e8d8d091",
   "metadata": {},
   "outputs": [
    {
     "name": "stdout",
     "output_type": "stream",
     "text": [
      "1\n",
      "2\n",
      "3\n",
      "4\n"
     ]
    }
   ],
   "source": [
    "l1.traverse_ll()"
   ]
  },
  {
   "cell_type": "code",
   "execution_count": 158,
   "id": "dd67b884",
   "metadata": {},
   "outputs": [
    {
     "data": {
      "text/plain": [
       "1"
      ]
     },
     "execution_count": 158,
     "metadata": {},
     "output_type": "execute_result"
    }
   ],
   "source": [
    "l1.get_head().val"
   ]
  },
  {
   "cell_type": "code",
   "execution_count": 148,
   "id": "1801d008",
   "metadata": {},
   "outputs": [],
   "source": [
    "l1.reverse()"
   ]
  },
  {
   "cell_type": "code",
   "execution_count": 149,
   "id": "10bf2ef9",
   "metadata": {},
   "outputs": [
    {
     "data": {
      "text/plain": [
       "4"
      ]
     },
     "execution_count": 149,
     "metadata": {},
     "output_type": "execute_result"
    }
   ],
   "source": [
    "l1.get_head()"
   ]
  },
  {
   "cell_type": "code",
   "execution_count": null,
   "id": "c92256ca",
   "metadata": {},
   "outputs": [],
   "source": []
  },
  {
   "cell_type": "code",
   "execution_count": null,
   "id": "0419dc74",
   "metadata": {},
   "outputs": [],
   "source": []
  }
 ],
 "metadata": {
  "kernelspec": {
   "display_name": "Python [conda env:docling_main]",
   "language": "python",
   "name": "conda-env-docling_main-py"
  },
  "language_info": {
   "codemirror_mode": {
    "name": "ipython",
    "version": 3
   },
   "file_extension": ".py",
   "mimetype": "text/x-python",
   "name": "python",
   "nbconvert_exporter": "python",
   "pygments_lexer": "ipython3",
   "version": "3.11.11"
  },
  "varInspector": {
   "cols": {
    "lenName": 16,
    "lenType": 16,
    "lenVar": 40
   },
   "kernels_config": {
    "python": {
     "delete_cmd_postfix": "",
     "delete_cmd_prefix": "del ",
     "library": "var_list.py",
     "varRefreshCmd": "print(var_dic_list())"
    },
    "r": {
     "delete_cmd_postfix": ") ",
     "delete_cmd_prefix": "rm(",
     "library": "var_list.r",
     "varRefreshCmd": "cat(var_dic_list()) "
    }
   },
   "types_to_exclude": [
    "module",
    "function",
    "builtin_function_or_method",
    "instance",
    "_Feature"
   ],
   "window_display": false
  }
 },
 "nbformat": 4,
 "nbformat_minor": 5
}
