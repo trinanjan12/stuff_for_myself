{
 "cells": [
  {
   "cell_type": "markdown",
   "id": "1a0aa033",
   "metadata": {},
   "source": [
    "# 1. 2 sum sorted"
   ]
  },
  {
   "cell_type": "code",
   "execution_count": 34,
   "id": "6d44af70",
   "metadata": {},
   "outputs": [],
   "source": [
    "from typing import List\n",
    "class Solution:\n",
    "    def twoSum(self, numbers: List[int], target: int) -> List[int]:\n",
    "        index1,index2 = 0,len(numbers)-1\n",
    "        while index1 < len(numbers) and index2 > 0:\n",
    "            curr_sum = numbers[index1]+numbers[index2]\n",
    "            print(index1,index2,curr_sum)\n",
    "            if curr_sum == target:\n",
    "                return [index1+1,index2+1]\n",
    "            elif curr_sum > target:\n",
    "                index2 -= 1\n",
    "            else :\n",
    "                index1+=1\n",
    "\n",
    "        return False"
   ]
  },
  {
   "cell_type": "code",
   "execution_count": 35,
   "id": "7242fb20",
   "metadata": {},
   "outputs": [],
   "source": [
    "x = Solution()"
   ]
  },
  {
   "cell_type": "code",
   "execution_count": 36,
   "id": "ec695471",
   "metadata": {},
   "outputs": [
    {
     "name": "stdout",
     "output_type": "stream",
     "text": [
      "0 3 17\n",
      "0 2 13\n",
      "0 1 9\n"
     ]
    },
    {
     "data": {
      "text/plain": [
       "[1, 2]"
      ]
     },
     "execution_count": 36,
     "metadata": {},
     "output_type": "execute_result"
    }
   ],
   "source": [
    "x.twoSum([2,7,11,15],9)"
   ]
  },
  {
   "cell_type": "markdown",
   "id": "4d492915",
   "metadata": {},
   "source": [
    "# 2. 3 Sum"
   ]
  },
  {
   "cell_type": "markdown",
   "id": "f4947d7d",
   "metadata": {},
   "source": [
    "#### 3‑Sum Problem Approach Note\n",
    "\n",
    "**Objective:**  \n",
    "Find all unique triplets in the array that sum to zero.\n",
    "\n",
    "---\n",
    "\n",
    "#### 1. Sorting the Array\n",
    "\n",
    "- **Why Sort?**  \n",
    "  Sorting the array gives us the ability to easily control pointer movement. When the sum is too high, we can move the right pointer left (to get a smaller number), and when the sum is too low, we can move the left pointer right (to get a larger number).\n",
    "\n",
    "---\n",
    "\n",
    "#### 2. Two-Pointer Technique (Reduction to 2-Sum)\n",
    "\n",
    "- **Fix One Index (i):**  \n",
    "  Iterate through the sorted array with a pointer `i` that fixes the first number of the triplet.\n",
    "\n",
    "- **Use Two Pointers (j and k):**  \n",
    "  Let `j` start from `i + 1` and `k` start from the end of the array. Then, check the sum:  \n",
    "  - If `nums[i] + nums[j] + nums[k] < 0`, move `j` to the right to increase the sum.  \n",
    "  - If `nums[i] + nums[j] + nums[k] > 0`, move `k` to the left to decrease the sum.  \n",
    "  - If the sum is zero, record the triplet.\n",
    "\n",
    "- **Nested While Loops:**  \n",
    "  The outer loop fixes `i` and the inner while loop continually adjusts `j` and `k` until they meet.\n",
    "\n",
    "---\n",
    "\n",
    "#### 3. Avoiding Duplicates Using a Hashmap\n",
    "\n",
    "- **Purpose of the Hashmap:**  \n",
    "  Instead of post-processing or checking duplicate insertion logic on every found triplet, a hashmap (dictionary) is used to ensure each unique triplet is stored only once.  \n",
    "  - **Key:** A tuple of `(nums[i], nums[j], nums[k])`  \n",
    "  - **Value:** The corresponding triplet list `[nums[i], nums[j], nums[k]]`\n",
    "\n",
    "- **Pointer Adjustment After Finding a Triplet:**  \n",
    "  After finding a valid triplet, move the `j` pointer forward (and/or the `k` pointer backward) while skipping over duplicate numbers to avoid generating the same triplet again.\n",
    "\n",
    "---\n",
    "\n",
    "#### 4. Final Code Example\n",
    "\n",
    "Below is the complete Python implementation using the described approach with a hashmap to record and prevent duplicate triplets:\n",
    "\n",
    "#### Summary\n",
    "\n",
    "- **Two-index (two-pointer) problem reduction:**  \n",
    "  We fix one index (`i`) and use two other indices (`j` and `k`) to find pairs forming the correct sum.\n",
    "\n",
    "- **Two While Loops Structure:**  \n",
    "  The outer loop is for the fixed index `i`, and the inner loop for the two pointers `j` and `k`.\n",
    "\n",
    "- **Sorting the Array:**  \n",
    "  Sorting facilitates the logic behind pointer movement—if the sum is too high, decrease it by moving from a high number to a lower number; if the sum is too low, increase it by moving to a higher number.\n",
    "\n",
    "- **Hashmap Use for Duplicate Prevention:**  \n",
    "  A hashmap (or dictionary) stores triplets as keys to quickly ensure that each found triplet is unique. Additionally, once a triplet is found, move the pointers until a different number is encountered.\n",
    "\n",
    "This note and code sample serve as a quick reference for implementing the 3‑Sum problem using a combination of two-pointer techniques and a hashmap for duplicate elimination."
   ]
  },
  {
   "cell_type": "code",
   "execution_count": 131,
   "id": "187d13a1",
   "metadata": {},
   "outputs": [],
   "source": [
    "class Solution:\n",
    "    def threeSum(self, nums: List[int]) -> List[List[int]]:\n",
    "        all_results = {}\n",
    "        i,j,k = 0,1,len(nums)-1\n",
    "        nums = sorted(nums)\n",
    "        while i != len(nums)-2:\n",
    "            while j < k:\n",
    "                # print(i,j,k,all_results)\n",
    "                total = nums[i] + nums[j] + nums[k] \n",
    "                if total == 0:\n",
    "                    all_results[tuple([nums[i], nums[j], nums[k]])] = [nums[i], nums[j], nums[k]]\n",
    "                    j +=1\n",
    "                    k -= 1\n",
    "                elif total > 0:\n",
    "                    k -= 1\n",
    "                else:\n",
    "                    j +=1\n",
    "            i +=1\n",
    "            j = i+1\n",
    "            k = len(nums)-1\n",
    "        return list(all_results.values())"
   ]
  },
  {
   "cell_type": "code",
   "execution_count": 132,
   "id": "810808f4",
   "metadata": {},
   "outputs": [],
   "source": [
    "x = Solution()\n",
    "# The distinct triplets are [-1,0,1] and [-1,-1,2].\n"
   ]
  },
  {
   "cell_type": "code",
   "execution_count": 133,
   "id": "21a0f9ee",
   "metadata": {},
   "outputs": [
    {
     "data": {
      "text/plain": [
       "[[-1, -1, 2], [-1, 0, 1]]"
      ]
     },
     "execution_count": 133,
     "metadata": {},
     "output_type": "execute_result"
    }
   ],
   "source": [
    "x.threeSum([-1,0,1,2,-1,-4])"
   ]
  },
  {
   "cell_type": "code",
   "execution_count": 134,
   "id": "f5969925",
   "metadata": {},
   "outputs": [
    {
     "data": {
      "text/plain": [
       "[[-2, 0, 2], [-2, 1, 1]]"
      ]
     },
     "execution_count": 134,
     "metadata": {},
     "output_type": "execute_result"
    }
   ],
   "source": [
    "x.threeSum([-2,0,1,1,2])#[[-2,0,2],[-2,1,1]]"
   ]
  },
  {
   "cell_type": "code",
   "execution_count": 135,
   "id": "f7601ab1",
   "metadata": {},
   "outputs": [
    {
     "data": {
      "text/plain": [
       "[[3]]"
      ]
     },
     "execution_count": 135,
     "metadata": {},
     "output_type": "execute_result"
    }
   ],
   "source": [
    "l = {}\n",
    "l[tuple([1,2,3])] = [3]\n",
    "list(l.values())"
   ]
  }
 ],
 "metadata": {
  "kernelspec": {
   "display_name": "Python [conda env:docling_main]",
   "language": "python",
   "name": "conda-env-docling_main-py"
  },
  "language_info": {
   "codemirror_mode": {
    "name": "ipython",
    "version": 3
   },
   "file_extension": ".py",
   "mimetype": "text/x-python",
   "name": "python",
   "nbconvert_exporter": "python",
   "pygments_lexer": "ipython3",
   "version": "3.11.11"
  },
  "varInspector": {
   "cols": {
    "lenName": 16,
    "lenType": 16,
    "lenVar": 40
   },
   "kernels_config": {
    "python": {
     "delete_cmd_postfix": "",
     "delete_cmd_prefix": "del ",
     "library": "var_list.py",
     "varRefreshCmd": "print(var_dic_list())"
    },
    "r": {
     "delete_cmd_postfix": ") ",
     "delete_cmd_prefix": "rm(",
     "library": "var_list.r",
     "varRefreshCmd": "cat(var_dic_list()) "
    }
   },
   "types_to_exclude": [
    "module",
    "function",
    "builtin_function_or_method",
    "instance",
    "_Feature"
   ],
   "window_display": false
  }
 },
 "nbformat": 4,
 "nbformat_minor": 5
}
