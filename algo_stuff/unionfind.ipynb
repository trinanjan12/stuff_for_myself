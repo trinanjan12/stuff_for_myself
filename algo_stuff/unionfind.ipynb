{
 "cells": [
  {
   "cell_type": "code",
   "execution_count": 14,
   "id": "8c507f61",
   "metadata": {},
   "outputs": [],
   "source": [
    "class UnionFind:\n",
    "    \"\"\"\n",
    "    A lightweight implementation of the Union-Find (disjoint set) data structure.\n",
    "    \n",
    "    This class efficiently manages which elements belong to the same connected \"group.\"\n",
    "    When two elements are found to overlap or otherwise be related, calling `union(x, y)`\n",
    "    merges them into one set. All elements in the same set share the same \"root,\" which\n",
    "    can be retrieved by `find(x)`.\n",
    "\n",
    "    Typical usage in the context of layout analysis:\n",
    "    \n",
    "    1. Use a spatial index (e.g., R-tree) to find overlapping clusters. For each pair of\n",
    "       clusters that significantly overlap, union their IDs.\n",
    "    2. After processing all overlaps, call `get_groups()` to retrieve the sets of mutually\n",
    "       connected elements. For example:\n",
    "       - If cluster 1 overlaps cluster 2 and cluster 2 overlaps cluster 3, all three\n",
    "         (1, 2, 3) end up in the same group, even if 1 and 3 do not directly overlap.\n",
    "       - Clusters with no overlaps remain alone in their own sets.\n",
    "    3. In each group, you can select a \"best\" representative cluster (e.g., highest\n",
    "       confidence or largest bounding box) and merge other clusters' cells into it.\n",
    "       This helps eliminate duplicates while preserving the data from the \"loser\" clusters.\n",
    "    \n",
    "    The internal mechanism uses:\n",
    "    - **Path Compression** in `find(x)` to speed up future lookups.\n",
    "    - **Union by Rank** in `union(x, y)` to keep trees shallow, further improving efficiency.\n",
    "\n",
    "    Attributes:\n",
    "        parent (Dict[int, int]): Maps each element to its parent. Initially points to itself.\n",
    "        rank (Dict[int, int]): Stores the tree depth for each root to prioritize smaller subtrees.\n",
    "    \"\"\"\n",
    "\n",
    "    def __init__(self, elements):\n",
    "        self.parent = {elem: elem for elem in elements}\n",
    "        self.rank = {elem: 0 for elem in elements}\n",
    "\n",
    "    def find(self, x):\n",
    "        if self.parent[x] != x:\n",
    "            self.parent[x] = self.find(self.parent[x])  # Path compression\n",
    "        return self.parent[x]\n",
    "\n",
    "    def union(self, x, y):\n",
    "        root_x, root_y = self.find(x), self.find(y)\n",
    "        if root_x == root_y:\n",
    "            return\n",
    "\n",
    "        if self.rank[root_x] > self.rank[root_y]:\n",
    "            self.parent[root_y] = root_x\n",
    "        elif self.rank[root_x] < self.rank[root_y]:\n",
    "            self.parent[root_x] = root_y\n",
    "        else:\n",
    "            self.parent[root_y] = root_x\n",
    "            self.rank[root_x] += 1\n",
    "\n",
    "    def get_groups(self) -> Dict[int, List[int]]:\n",
    "        \"\"\"\n",
    "        Returns the final partitioning of elements after all unions. \n",
    "        \n",
    "        The returned dictionary maps the \"root\" representative of each group to a list\n",
    "        of all elements in that group. For example:\n",
    "        \n",
    "            {\n",
    "                root1: [elementA, elementB, elementC],\n",
    "                root2: [elementD],\n",
    "                ...\n",
    "            }\n",
    "        \n",
    "        where root1 and root2 are the 'find(...)' results for each group's representative.\n",
    "        \"\"\"\n",
    "        from collections import defaultdict\n",
    "        groups = defaultdict(list)\n",
    "        for elem in self.parent:\n",
    "            groups[self.find(elem)].append(elem)\n",
    "        return groups"
   ]
  },
  {
   "cell_type": "code",
   "execution_count": 15,
   "id": "4e03e9eb",
   "metadata": {},
   "outputs": [],
   "source": [
    "valid_clusters ={\n",
    "    1: Cluster(id=1, bbox=BoundingBox(l=0, t=0, r=10, b=10), cells=[], label='text'),\n",
    "    2: Cluster(id=2, bbox=BoundingBox(l=8, t=8, r=18, b=18), cells=[], label='text'),\n",
    "    3: Cluster(id=3, bbox=BoundingBox(l=20, t=20, r=30, b=30), cells=[], label='text'),\n",
    "    4: Cluster(id=4, bbox=BoundingBox(l=9, t=9, r=12, b=12), cells=[], label='text'),\n",
    "}\n"
   ]
  },
  {
   "cell_type": "code",
   "execution_count": 16,
   "id": "2e223ccf",
   "metadata": {},
   "outputs": [],
   "source": [
    "uf = UnionFind(valid_clusters.keys())"
   ]
  },
  {
   "cell_type": "code",
   "execution_count": 17,
   "id": "94af3a12",
   "metadata": {},
   "outputs": [],
   "source": [
    "uf.union(4,1)"
   ]
  },
  {
   "cell_type": "code",
   "execution_count": 18,
   "id": "082860ba",
   "metadata": {},
   "outputs": [],
   "source": [
    "uf.union(1,2)"
   ]
  },
  {
   "cell_type": "code",
   "execution_count": 19,
   "id": "2a294cec",
   "metadata": {},
   "outputs": [
    {
     "data": {
      "text/plain": [
       "defaultdict(list, {4: [1, 2, 4], 3: [3]})"
      ]
     },
     "execution_count": 19,
     "metadata": {},
     "output_type": "execute_result"
    }
   ],
   "source": [
    "uf.get_groups()"
   ]
  },
  {
   "cell_type": "code",
   "execution_count": 20,
   "id": "9937cd4f",
   "metadata": {},
   "outputs": [],
   "source": [
    "# so basically 1,2,3 have union and they are connected together"
   ]
  },
  {
   "cell_type": "code",
   "execution_count": null,
   "id": "88e79679",
   "metadata": {},
   "outputs": [],
   "source": []
  }
 ],
 "metadata": {
  "kernelspec": {
   "display_name": "Python [conda env:docling_main]",
   "language": "python",
   "name": "conda-env-docling_main-py"
  },
  "language_info": {
   "codemirror_mode": {
    "name": "ipython",
    "version": 3
   },
   "file_extension": ".py",
   "mimetype": "text/x-python",
   "name": "python",
   "nbconvert_exporter": "python",
   "pygments_lexer": "ipython3",
   "version": "3.11.11"
  },
  "varInspector": {
   "cols": {
    "lenName": 16,
    "lenType": 16,
    "lenVar": 40
   },
   "kernels_config": {
    "python": {
     "delete_cmd_postfix": "",
     "delete_cmd_prefix": "del ",
     "library": "var_list.py",
     "varRefreshCmd": "print(var_dic_list())"
    },
    "r": {
     "delete_cmd_postfix": ") ",
     "delete_cmd_prefix": "rm(",
     "library": "var_list.r",
     "varRefreshCmd": "cat(var_dic_list()) "
    }
   },
   "types_to_exclude": [
    "module",
    "function",
    "builtin_function_or_method",
    "instance",
    "_Feature"
   ],
   "window_display": false
  }
 },
 "nbformat": 4,
 "nbformat_minor": 5
}
