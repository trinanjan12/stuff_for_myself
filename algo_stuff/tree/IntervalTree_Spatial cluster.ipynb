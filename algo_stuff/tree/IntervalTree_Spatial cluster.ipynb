{
 "cells": [
  {
   "cell_type": "code",
   "execution_count": 1,
   "id": "3ee13b01",
   "metadata": {},
   "outputs": [],
   "source": [
    "import bisect\n",
    "from typing import Dict, List, Set, Tuple\n",
    "\n",
    "\n",
    "class Interval:\n",
    "    \"\"\"Helper class for sortable intervals.\"\"\"\n",
    "\n",
    "    def __init__(self, min_val: float, max_val: float, id: int):\n",
    "        self.min_val = min_val\n",
    "        self.max_val = max_val\n",
    "        self.id = id\n",
    "\n",
    "    def __lt__(self, other):\n",
    "        if isinstance(other, Interval):\n",
    "            return self.min_val < other.min_val\n",
    "        return self.min_val < other\n",
    "\n",
    "class IntervalTree:\n",
    "    \"\"\"\n",
    "    A memory-efficient interval tree that supports 1D range insertion and\n",
    "    point lookup queries.\n",
    "\n",
    "    This data structure maintains a sorted list of intervals (by their\n",
    "    minimum boundary). It enables efficient searches to find intervals\n",
    "    that contain a specific point. Inserting intervals is done via the\n",
    "    built-in `bisect` module, ensuring the intervals remain sorted in\n",
    "    ascending order of their minimum value.\n",
    "\n",
    "    Attributes:\n",
    "        intervals (List[Interval]): \n",
    "            A list of Interval objects, sorted by each Interval's `min_val`.\n",
    "\n",
    "    Methods:\n",
    "        insert(min_val: float, max_val: float, id: int):\n",
    "            Inserts a new interval into the structure while keeping it sorted.\n",
    "        \n",
    "        find_containing(point: float) -> Set[int]:\n",
    "            Finds all interval IDs whose intervals contain the specified point.\n",
    "    \"\"\"\n",
    "\n",
    "    def __init__(self):\n",
    "        self.intervals: List[Interval] = []  # Sorted by min_val\n",
    "\n",
    "    def insert(self, min_val: float, max_val: float, id: int):\n",
    "        interval = Interval(min_val, max_val, id)\n",
    "        bisect.insort(self.intervals, interval)\n",
    "\n",
    "    def find_containing(self, point: float) -> Set[int]:\n",
    "        \"\"\"Find all intervals containing the point.\"\"\"\n",
    "        pos = bisect.bisect_left(self.intervals, point)\n",
    "        result = set()\n",
    "\n",
    "        # Check intervals starting before point\n",
    "        for interval in reversed(self.intervals[:pos]):\n",
    "            if interval.min_val <= point <= interval.max_val:\n",
    "                result.add(interval.id)\n",
    "            else:\n",
    "                break\n",
    "                \n",
    "        # Check intervals starting at/after point\n",
    "        for interval in self.intervals[pos:]:\n",
    "            if point <= interval.max_val:\n",
    "                if interval.min_val <= point:\n",
    "                    result.add(interval.id)\n",
    "            else:\n",
    "                break\n",
    "                \n",
    "        return result"
   ]
  },
  {
   "cell_type": "code",
   "execution_count": 2,
   "id": "c72f45c8",
   "metadata": {},
   "outputs": [],
   "source": [
    "tree = IntervalTree()\n",
    "tree.insert(1, 5, 101)\n",
    "tree.insert(3, 7, 102)\n",
    "tree.insert(6, 10, 103)\n",
    "tree.insert(4, 15, 104)"
   ]
  },
  {
   "cell_type": "code",
   "execution_count": 3,
   "id": "4eeb7f6b",
   "metadata": {},
   "outputs": [
    {
     "data": {
      "text/plain": [
       "{101}"
      ]
     },
     "execution_count": 3,
     "metadata": {},
     "output_type": "execute_result"
    }
   ],
   "source": [
    "point_to_check = 1\n",
    "# returns the id of the 1d cluster or multiple clutsters that has the value point to chekc\n",
    "tree.find_containing(point_to_check) "
   ]
  },
  {
   "cell_type": "code",
   "execution_count": 4,
   "id": "05b32485",
   "metadata": {},
   "outputs": [
    {
     "data": {
      "text/plain": [
       "{103, 104}"
      ]
     },
     "execution_count": 4,
     "metadata": {},
     "output_type": "execute_result"
    }
   ],
   "source": [
    "tree.find_containing(9)"
   ]
  },
  {
   "cell_type": "code",
   "execution_count": 6,
   "id": "73333dd5",
   "metadata": {},
   "outputs": [],
   "source": [
    "from rtree import index\n",
    "\n",
    "from docling.datamodel.base_models import BoundingBox, Cell, Cluster"
   ]
  },
  {
   "cell_type": "code",
   "execution_count": 7,
   "id": "28b1abee",
   "metadata": {},
   "outputs": [],
   "source": [
    "class SpatialClusterIndex:\n",
    "    \"\"\"Efficient spatial indexing for clusters using R-tree and interval trees.\"\"\"\n",
    "\n",
    "    def __init__(self, clusters: List[Cluster]):\n",
    "        p = index.Property()\n",
    "        p.dimension = 2\n",
    "        self.spatial_index = index.Index(properties=p)\n",
    "        self.x_intervals = IntervalTree()\n",
    "        self.y_intervals = IntervalTree()\n",
    "        self.clusters_by_id: Dict[int, Cluster] = {}\n",
    "\n",
    "        for cluster in clusters:\n",
    "            self.add_cluster(cluster)\n",
    "\n",
    "    def add_cluster(self, cluster: Cluster):\n",
    "        bbox = cluster.bbox\n",
    "        self.spatial_index.insert(cluster.id, bbox.as_tuple())\n",
    "        self.x_intervals.insert(bbox.l, bbox.r, cluster.id)\n",
    "        self.y_intervals.insert(bbox.t, bbox.b, cluster.id)\n",
    "        self.clusters_by_id[cluster.id] = cluster\n",
    "\n",
    "    def remove_cluster(self, cluster: Cluster):\n",
    "        self.spatial_index.delete(cluster.id, cluster.bbox.as_tuple())\n",
    "        del self.clusters_by_id[cluster.id]\n",
    "\n",
    "    def find_candidates(self, bbox: BoundingBox) -> Set[int]:\n",
    "        \"\"\"Find potential overlapping cluster IDs using all indexes.\"\"\"\n",
    "        spatial = set(self.spatial_index.intersection(bbox.as_tuple()))\n",
    "        x_candidates = self.x_intervals.find_containing(\n",
    "            bbox.l\n",
    "        ) | self.x_intervals.find_containing(bbox.r)\n",
    "        y_candidates = self.y_intervals.find_containing(\n",
    "            bbox.t\n",
    "        ) | self.y_intervals.find_containing(bbox.b)\n",
    "        return spatial.union(x_candidates).union(y_candidates)"
   ]
  },
  {
   "cell_type": "code",
   "execution_count": 14,
   "id": "cae74a96",
   "metadata": {},
   "outputs": [],
   "source": [
    "# Mock data: Define clusters and cells\n",
    "clusters = [\n",
    "    Cluster(id=1, bbox=BoundingBox(l=0, t=0, r=5, b=5), confidence=0.9, cells=[],label='text'),\n",
    "    Cluster(id=2, bbox=BoundingBox(l=4, t=4, r=10,b= 10), confidence=0.8, cells=[],label='text'),\n",
    "    Cluster(id=3, bbox=BoundingBox(l=8, t=8, r=12, b=12), confidence=0.7, cells=[],label='text'),\n",
    "    Cluster(id=4, bbox=BoundingBox(l=10, t=10, r=15, b=15), confidence=0.95, cells=[],label='text'),\n",
    "]\n",
    "# Initialize SpatialClusterIndex with the clusters\n",
    "spatial_index = SpatialClusterIndex(clusters)"
   ]
  },
  {
   "cell_type": "code",
   "execution_count": 15,
   "id": "a86ca845",
   "metadata": {},
   "outputs": [
    {
     "data": {
      "text/plain": [
       "{1, 2}"
      ]
     },
     "execution_count": 15,
     "metadata": {},
     "output_type": "execute_result"
    }
   ],
   "source": [
    "# Find overlapping candidates using the spatial index\n",
    "spatial_index.find_candidates(clusters[0].bbox)"
   ]
  },
  {
   "cell_type": "code",
   "execution_count": null,
   "id": "b2f3e3aa",
   "metadata": {},
   "outputs": [],
   "source": []
  }
 ],
 "metadata": {
  "kernelspec": {
   "display_name": "Python [conda env:docling_main]",
   "language": "python",
   "name": "conda-env-docling_main-py"
  },
  "language_info": {
   "codemirror_mode": {
    "name": "ipython",
    "version": 3
   },
   "file_extension": ".py",
   "mimetype": "text/x-python",
   "name": "python",
   "nbconvert_exporter": "python",
   "pygments_lexer": "ipython3",
   "version": "3.11.11"
  },
  "varInspector": {
   "cols": {
    "lenName": 16,
    "lenType": 16,
    "lenVar": 40
   },
   "kernels_config": {
    "python": {
     "delete_cmd_postfix": "",
     "delete_cmd_prefix": "del ",
     "library": "var_list.py",
     "varRefreshCmd": "print(var_dic_list())"
    },
    "r": {
     "delete_cmd_postfix": ") ",
     "delete_cmd_prefix": "rm(",
     "library": "var_list.r",
     "varRefreshCmd": "cat(var_dic_list()) "
    }
   },
   "types_to_exclude": [
    "module",
    "function",
    "builtin_function_or_method",
    "instance",
    "_Feature"
   ],
   "window_display": false
  }
 },
 "nbformat": 4,
 "nbformat_minor": 5
}
