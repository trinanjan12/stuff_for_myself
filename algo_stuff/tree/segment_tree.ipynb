{
 "cells": [
  {
   "cell_type": "code",
   "execution_count": 140,
   "id": "829b65a7",
   "metadata": {},
   "outputs": [],
   "source": [
    "class SegTree:\n",
    "\n",
    "    def __init__(self, arr, type=\"sum\"):\n",
    "        self.arr = arr\n",
    "        self.type = type  # Store type as an instance variable\n",
    "        self.n = len(self.arr)\n",
    "        if self.type == \"sum\":\n",
    "            self.seg_tree_arr = [0] * (4 * self.n)  # Initialize segment tree array\n",
    "\n",
    "        if self.type == \"max\":\n",
    "            self.seg_tree_arr = [-1000000] * (4 * self.n)\n",
    "\n",
    "        # Build the tree\n",
    "        self.build_tree(0, 0, self.n - 1)\n",
    "\n",
    "    def build_tree(self, idx, low, high):\n",
    "        if low == high:  # Leaf node\n",
    "            self.seg_tree_arr[idx] = self.arr[low]\n",
    "            return\n",
    "\n",
    "        mid = (low + high) // 2\n",
    "        # Recursively build the left and right subtrees\n",
    "        self.build_tree(2 * idx + 1, low, mid)\n",
    "        self.build_tree(2 * idx + 2, mid + 1, high)\n",
    "\n",
    "        # Combine results based on type\n",
    "        if self.type == \"sum\":\n",
    "            self.seg_tree_arr[idx] = (self.seg_tree_arr[2 * idx + 1] +\n",
    "                                      self.seg_tree_arr[2 * idx + 2])\n",
    "        elif self.type == \"max\":\n",
    "            self.seg_tree_arr[idx] = max(self.seg_tree_arr[2 * idx + 1],\n",
    "                                         self.seg_tree_arr[2 * idx + 2])\n",
    "\n",
    "    def query(self, idx, low_query, right_query, low_of_curr_seg_node,\n",
    "              right_of_curr_seg_node):\n",
    "        # completely overlaps\n",
    "        if low_query <= low_of_curr_seg_node and right_query >= right_of_curr_seg_node:\n",
    "            return self.seg_tree_arr[idx]\n",
    "        # doesn't overlap\n",
    "        if low_query > right_of_curr_seg_node or right_query < low_of_curr_seg_node:\n",
    "            return 0\n",
    "\n",
    "        mid = (low_of_curr_seg_node + right_of_curr_seg_node) // 2\n",
    "        left_child = self.query(2 * idx + 1, low_query, right_query,\n",
    "                                low_of_curr_seg_node, mid)\n",
    "        right_child = self.query(2 * idx + 2, low_query, right_query, mid + 1,\n",
    "                                 right_of_curr_seg_node)\n",
    "\n",
    "        return left_child + right_child"
   ]
  },
  {
   "cell_type": "code",
   "execution_count": 141,
   "id": "3ce92d04",
   "metadata": {},
   "outputs": [
    {
     "data": {
      "text/plain": [
       "[20, 6, 14, 2, 4, 6, 8, 0, 0, 0, 0, 0, 0, 0, 0, 0]"
      ]
     },
     "execution_count": 141,
     "metadata": {},
     "output_type": "execute_result"
    }
   ],
   "source": [
    "my_seg_tree_sum = SegTree([2,4,6,8],type=\"sum\")\n",
    "my_seg_tree_sum.seg_tree_arr"
   ]
  },
  {
   "cell_type": "code",
   "execution_count": 142,
   "id": "283e5566",
   "metadata": {
    "scrolled": true
   },
   "outputs": [
    {
     "data": {
      "text/plain": [
       "12"
      ]
     },
     "execution_count": 142,
     "metadata": {},
     "output_type": "execute_result"
    }
   ],
   "source": [
    "my_seg_tree_sum.query(0,0,2,0,3)"
   ]
  },
  {
   "cell_type": "code",
   "execution_count": 112,
   "id": "b3f73f86",
   "metadata": {},
   "outputs": [],
   "source": []
  },
  {
   "cell_type": "code",
   "execution_count": 113,
   "id": "1e770b2e",
   "metadata": {},
   "outputs": [],
   "source": []
  },
  {
   "cell_type": "code",
   "execution_count": 114,
   "id": "149f07ce",
   "metadata": {},
   "outputs": [
    {
     "data": {
      "text/plain": [
       "(12, 20)"
      ]
     },
     "execution_count": 114,
     "metadata": {},
     "output_type": "execute_result"
    }
   ],
   "source": [
    "tree.root.right.interval"
   ]
  },
  {
   "cell_type": "code",
   "execution_count": 143,
   "id": "444b3847",
   "metadata": {},
   "outputs": [],
   "source": [
    "import bisect\n",
    "import logging\n",
    "import sys\n",
    "from collections import defaultdict\n",
    "from typing import Dict, List, Set, Tuple\n",
    "\n",
    "from docling_core.types.doc import DocItemLabel, Size\n",
    "from rtree import index\n",
    "\n",
    "class Interval:\n",
    "    \"\"\"Helper class for sortable intervals.\"\"\"\n",
    "\n",
    "    def __init__(self, min_val: float, max_val: float, id: int):\n",
    "        self.min_val = min_val\n",
    "        self.max_val = max_val\n",
    "        self.id = id\n",
    "\n",
    "    def __lt__(self, other):\n",
    "        if isinstance(other, Interval):\n",
    "            return self.min_val < other.min_val\n",
    "        return self.min_val < other\n",
    "\n",
    "\n",
    "class IntervalTree:\n",
    "    \"\"\"Memory-efficient interval tree for 1D overlap queries.\"\"\"\n",
    "\n",
    "    def __init__(self):\n",
    "        self.intervals: List[Interval] = []  # Sorted by min_val\n",
    "\n",
    "    def insert(self, min_val: float, max_val: float, id: int):\n",
    "        interval = Interval(min_val, max_val, id)\n",
    "        bisect.insort(self.intervals, interval)\n",
    "\n",
    "    def find_containing(self, point: float) -> Set[int]:\n",
    "        \"\"\"Find all intervals containing the point.\"\"\"\n",
    "        pos = bisect.bisect_left(self.intervals, point)\n",
    "        result = set()\n",
    "\n",
    "        # Check intervals starting before point\n",
    "        for interval in reversed(self.intervals[:pos]):\n",
    "            if interval.min_val <= point <= interval.max_val:\n",
    "                result.add(interval.id)\n",
    "            else:\n",
    "                break\n",
    "\n",
    "        # Check intervals starting at/after point\n",
    "        for interval in self.intervals[pos:]:\n",
    "            if point <= interval.max_val:\n",
    "                if interval.min_val <= point:\n",
    "                    result.add(interval.id)\n",
    "            else:\n",
    "                break\n",
    "\n",
    "        return result"
   ]
  },
  {
   "cell_type": "code",
   "execution_count": 144,
   "id": "0d195fba",
   "metadata": {
    "scrolled": true
   },
   "outputs": [],
   "source": [
    "tree = IntervalTree()\n",
    "tree.insert(1, 5, 101)\n",
    "tree.insert(3, 7, 102)\n",
    "tree.insert(6, 10, 103)\n",
    "tree.insert(4, 15, 104)"
   ]
  },
  {
   "cell_type": "code",
   "execution_count": 145,
   "id": "7a8c8684",
   "metadata": {},
   "outputs": [
    {
     "data": {
      "text/plain": [
       "{103, 104}"
      ]
     },
     "execution_count": 145,
     "metadata": {},
     "output_type": "execute_result"
    }
   ],
   "source": [
    "tree.find_containing(9)"
   ]
  },
  {
   "cell_type": "code",
   "execution_count": 134,
   "id": "a231422a",
   "metadata": {},
   "outputs": [],
   "source": [
    "x1 = Interval(1,5,100)\n",
    "x2 = Interval(2,5,100)"
   ]
  },
  {
   "cell_type": "code",
   "execution_count": 136,
   "id": "3eee1cec",
   "metadata": {},
   "outputs": [
    {
     "data": {
      "text/plain": [
       "False"
      ]
     },
     "execution_count": 136,
     "metadata": {},
     "output_type": "execute_result"
    }
   ],
   "source": [
    "x1>x2"
   ]
  },
  {
   "cell_type": "code",
   "execution_count": null,
   "id": "857d6eda",
   "metadata": {},
   "outputs": [],
   "source": []
  }
 ],
 "metadata": {
  "kernelspec": {
   "display_name": "Python [conda env:docling_main]",
   "language": "python",
   "name": "conda-env-docling_main-py"
  },
  "language_info": {
   "codemirror_mode": {
    "name": "ipython",
    "version": 3
   },
   "file_extension": ".py",
   "mimetype": "text/x-python",
   "name": "python",
   "nbconvert_exporter": "python",
   "pygments_lexer": "ipython3",
   "version": "3.11.11"
  },
  "varInspector": {
   "cols": {
    "lenName": 16,
    "lenType": 16,
    "lenVar": 40
   },
   "kernels_config": {
    "python": {
     "delete_cmd_postfix": "",
     "delete_cmd_prefix": "del ",
     "library": "var_list.py",
     "varRefreshCmd": "print(var_dic_list())"
    },
    "r": {
     "delete_cmd_postfix": ") ",
     "delete_cmd_prefix": "rm(",
     "library": "var_list.r",
     "varRefreshCmd": "cat(var_dic_list()) "
    }
   },
   "types_to_exclude": [
    "module",
    "function",
    "builtin_function_or_method",
    "instance",
    "_Feature"
   ],
   "window_display": false
  }
 },
 "nbformat": 4,
 "nbformat_minor": 5
}
