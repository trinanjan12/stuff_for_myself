{
 "cells": [
  {
   "cell_type": "code",
   "execution_count": 2,
   "id": "7aabdbfd",
   "metadata": {},
   "outputs": [],
   "source": [
    "class IntervalNode:\n",
    "\n",
    "    def __init__(self, interval):\n",
    "        self.interval = interval\n",
    "        self.max = interval[1]\n",
    "        self.left = None\n",
    "        self.right = None\n",
    "\n",
    "\n",
    "class IntervalTree:\n",
    "\n",
    "    def __init__(self, intervals):\n",
    "        self.root = self.build_tree(intervals)\n",
    "\n",
    "    def build_tree(self, intervals):\n",
    "\n",
    "        if not intervals:\n",
    "            return None\n",
    "\n",
    "        intervals = sorted(intervals, key=lambda x: x[0])\n",
    "        mid = len(intervals) // 2\n",
    "        root = IntervalNode(intervals[mid])\n",
    "\n",
    "        root.left = self.build_tree(intervals[:mid])\n",
    "        root.right = self.build_tree(intervals[mid + 1:])\n",
    "\n",
    "        root.max = max(root.interval[-1],\n",
    "                       root.left.max if root.left else float('-inf'),\n",
    "                       root.right.max if root.right else float('-inf'))\n",
    "        \n",
    "        return root"
   ]
  },
  {
   "cell_type": "code",
   "execution_count": 3,
   "id": "1eaec7c0",
   "metadata": {},
   "outputs": [],
   "source": [
    "intervals = [(1, 5), (2, 8), (3, 7), (10, 15), (12, 20)]\n",
    "\n",
    "tree = IntervalTree(intervals)"
   ]
  },
  {
   "cell_type": "code",
   "execution_count": 5,
   "id": "3ee13b01",
   "metadata": {},
   "outputs": [],
   "source": [
    "import bisect\n",
    "from typing import Dict, List, Set, Tuple\n",
    "\n",
    "from docling_core.types.doc import DocItemLabel, Size\n",
    "from rtree import index\n",
    "\n",
    "class Interval:\n",
    "    \"\"\"Helper class for sortable intervals.\"\"\"\n",
    "\n",
    "    def __init__(self, min_val: float, max_val: float, id: int):\n",
    "        self.min_val = min_val\n",
    "        self.max_val = max_val\n",
    "        self.id = id\n",
    "\n",
    "    def __lt__(self, other):\n",
    "        if isinstance(other, Interval):\n",
    "            return self.min_val < other.min_val\n",
    "        return self.min_val < other\n",
    "\n",
    "\n",
    "class IntervalTree:\n",
    "    \"\"\"Memory-efficient interval tree for 1D overlap queries.\"\"\"\n",
    "\n",
    "    def __init__(self):\n",
    "        self.intervals: List[Interval] = []  # Sorted by min_val\n",
    "\n",
    "    def insert(self, min_val: float, max_val: float, id: int):\n",
    "        interval = Interval(min_val, max_val, id)\n",
    "        bisect.insort(self.intervals, interval)\n",
    "\n",
    "    def find_containing(self, point: float) -> Set[int]:\n",
    "        \"\"\"Find all intervals containing the point.\"\"\"\n",
    "        pos = bisect.bisect_left(self.intervals, point)\n",
    "        result = set()\n",
    "\n",
    "        # Check intervals starting before point\n",
    "        for interval in reversed(self.intervals[:pos]):\n",
    "            if interval.min_val <= point <= interval.max_val:\n",
    "                result.add(interval.id)\n",
    "            else:\n",
    "                break\n",
    "\n",
    "        # Check intervals starting at/after point\n",
    "        for interval in self.intervals[pos:]:\n",
    "            if point <= interval.max_val:\n",
    "                if interval.min_val <= point:\n",
    "                    result.add(interval.id)\n",
    "            else:\n",
    "                break\n",
    "\n",
    "        return result"
   ]
  },
  {
   "cell_type": "code",
   "execution_count": 6,
   "id": "c72f45c8",
   "metadata": {},
   "outputs": [],
   "source": [
    "tree = IntervalTree()\n",
    "tree.insert(1, 5, 101)\n",
    "tree.insert(3, 7, 102)\n",
    "tree.insert(6, 10, 103)\n",
    "tree.insert(4, 15, 104)"
   ]
  },
  {
   "cell_type": "code",
   "execution_count": 7,
   "id": "4eeb7f6b",
   "metadata": {},
   "outputs": [
    {
     "data": {
      "text/plain": [
       "{103, 104}"
      ]
     },
     "execution_count": 7,
     "metadata": {},
     "output_type": "execute_result"
    }
   ],
   "source": [
    "tree.find_containing(9)"
   ]
  },
  {
   "cell_type": "code",
   "execution_count": null,
   "id": "05b32485",
   "metadata": {},
   "outputs": [],
   "source": []
  }
 ],
 "metadata": {
  "kernelspec": {
   "display_name": "Python [conda env:docling_main]",
   "language": "python",
   "name": "conda-env-docling_main-py"
  },
  "language_info": {
   "codemirror_mode": {
    "name": "ipython",
    "version": 3
   },
   "file_extension": ".py",
   "mimetype": "text/x-python",
   "name": "python",
   "nbconvert_exporter": "python",
   "pygments_lexer": "ipython3",
   "version": "3.11.11"
  },
  "varInspector": {
   "cols": {
    "lenName": 16,
    "lenType": 16,
    "lenVar": 40
   },
   "kernels_config": {
    "python": {
     "delete_cmd_postfix": "",
     "delete_cmd_prefix": "del ",
     "library": "var_list.py",
     "varRefreshCmd": "print(var_dic_list())"
    },
    "r": {
     "delete_cmd_postfix": ") ",
     "delete_cmd_prefix": "rm(",
     "library": "var_list.r",
     "varRefreshCmd": "cat(var_dic_list()) "
    }
   },
   "types_to_exclude": [
    "module",
    "function",
    "builtin_function_or_method",
    "instance",
    "_Feature"
   ],
   "window_display": false
  }
 },
 "nbformat": 4,
 "nbformat_minor": 5
}
