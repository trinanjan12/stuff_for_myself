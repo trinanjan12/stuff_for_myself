{
 "cells": [
  {
   "cell_type": "code",
   "execution_count": 1,
   "id": "829b65a7",
   "metadata": {},
   "outputs": [],
   "source": [
    "class SegTree:\n",
    "\n",
    "    def __init__(self, arr, type=\"sum\"):\n",
    "        self.arr = arr\n",
    "        self.type = type  # Store type as an instance variable\n",
    "        self.n = len(self.arr)\n",
    "        self.seg_tree_arr = [0] * (4 * self.n)  # Initialize segment tree array\n",
    "\n",
    "        if self.type == \"max\":\n",
    "            self.seg_tree_arr = [-1000000] * (4 * self.n)\n",
    "\n",
    "        # Build the tree\n",
    "        self.build_tree(0, 0, self.n - 1)\n",
    "\n",
    "    def build_tree(self, idx, low, high):\n",
    "        if low == high:  # Leaf node\n",
    "            self.seg_tree_arr[idx] = self.arr[low]\n",
    "            return\n",
    "\n",
    "        mid = (low + high) // 2\n",
    "        # Recursively build the left and right subtrees\n",
    "        self.build_tree(2 * idx + 1, low, mid)\n",
    "        self.build_tree(2 * idx + 2, mid + 1, high)\n",
    "\n",
    "        # Combine results based on type\n",
    "        if self.type == \"sum\":\n",
    "            self.seg_tree_arr[idx] = (\n",
    "                self.seg_tree_arr[2 * idx + 1] + self.seg_tree_arr[2 * idx + 2]\n",
    "            )\n",
    "        elif self.type == \"max\":\n",
    "            self.seg_tree_arr[idx] = max(\n",
    "                self.seg_tree_arr[2 * idx + 1], self.seg_tree_arr[2 * idx + 2]\n",
    "            )\n"
   ]
  },
  {
   "cell_type": "code",
   "execution_count": 2,
   "id": "3ce92d04",
   "metadata": {},
   "outputs": [],
   "source": [
    "my_seg_tree_sum = SegTree([0, 1, 3, 5, -2, 3],type=\"sum\")"
   ]
  },
  {
   "cell_type": "code",
   "execution_count": 3,
   "id": "283e5566",
   "metadata": {
    "scrolled": true
   },
   "outputs": [
    {
     "data": {
      "text/plain": [
       "[10, 4, 6, 1, 3, 3, 3, 0, 1, 0, 0, 5, -2, 0, 0, 0, 0, 0, 0, 0, 0, 0, 0, 0]"
      ]
     },
     "execution_count": 3,
     "metadata": {},
     "output_type": "execute_result"
    }
   ],
   "source": [
    "my_seg_tree_sum.seg_tree_arr"
   ]
  },
  {
   "cell_type": "code",
   "execution_count": null,
   "id": "3c79dac0",
   "metadata": {},
   "outputs": [],
   "source": []
  }
 ],
 "metadata": {
  "kernelspec": {
   "display_name": "Python [conda env:docling_main]",
   "language": "python",
   "name": "conda-env-docling_main-py"
  },
  "language_info": {
   "codemirror_mode": {
    "name": "ipython",
    "version": 3
   },
   "file_extension": ".py",
   "mimetype": "text/x-python",
   "name": "python",
   "nbconvert_exporter": "python",
   "pygments_lexer": "ipython3",
   "version": "3.11.11"
  },
  "varInspector": {
   "cols": {
    "lenName": 16,
    "lenType": 16,
    "lenVar": 40
   },
   "kernels_config": {
    "python": {
     "delete_cmd_postfix": "",
     "delete_cmd_prefix": "del ",
     "library": "var_list.py",
     "varRefreshCmd": "print(var_dic_list())"
    },
    "r": {
     "delete_cmd_postfix": ") ",
     "delete_cmd_prefix": "rm(",
     "library": "var_list.r",
     "varRefreshCmd": "cat(var_dic_list()) "
    }
   },
   "types_to_exclude": [
    "module",
    "function",
    "builtin_function_or_method",
    "instance",
    "_Feature"
   ],
   "window_display": false
  }
 },
 "nbformat": 4,
 "nbformat_minor": 5
}
